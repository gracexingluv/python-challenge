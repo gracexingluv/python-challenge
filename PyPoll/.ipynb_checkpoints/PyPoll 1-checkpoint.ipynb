{
 "cells": [
  {
   "cell_type": "code",
   "execution_count": 10,
   "metadata": {},
   "outputs": [],
   "source": [
    "import os\n",
    "import csv"
   ]
  },
  {
   "cell_type": "code",
   "execution_count": 11,
   "metadata": {},
   "outputs": [],
   "source": [
    "election_data = os.path.join(\"Resources\", \"election_data.csv\")"
   ]
  },
  {
   "cell_type": "code",
   "execution_count": 35,
   "metadata": {},
   "outputs": [
    {
     "name": "stdout",
     "output_type": "stream",
     "text": [
      "Election Results\n",
      "--------------------------------\n",
      "Total Voters： 3521001\n",
      "--------------------------------\n",
      "Khan: 63.000% (2218231)\n",
      "Correy: 20.000% (704200)\n",
      "Li: 14.000% (492940)\n",
      "O'Tooley: 3.000% (105630)\n",
      "--------------------------------\n",
      "Winner: Khan\n",
      "--------------------------------\n"
     ]
    }
   ],
   "source": [
    "voters = []\n",
    "candidates = []\n",
    "\n",
    "with open(election_data,\"r\") as file:\n",
    "    csv_reader_election = csv.reader(file, delimiter=\",\")\n",
    "    next(csv_reader_election, None)\n",
    "    \n",
    "    for row in csv_reader_election:\n",
    "        voters.append(row[0])\n",
    "        if row[2] not in candidates:\n",
    "            candidates.append(row[2])\n",
    "            \n",
    "    print('Election Results')\n",
    "    print('--------------------------------')\n",
    "    print(f'Total Voters： {len(voters)}')\n",
    "    print('--------------------------------')\n",
    "    \n",
    "    Winner = []   \n",
    "    Max = 0\n",
    "    for candidate in candidates: \n",
    "        voter = 0\n",
    "        percentage = 0\n",
    "        with open(election_data,\"r\") as file:    \n",
    "            csv_reader_election = csv.reader(file, delimiter=\",\")\n",
    "            next(csv_reader_election, None)\n",
    "            for row in csv_reader_election:\n",
    "                if row[2] == candidate:\n",
    "                    voter = voter + 1\n",
    "                    percentage = voter*100/len(voters)\n",
    "            \n",
    "            print('{}: {:.3f}% ({})'.format(candidate, percentage, voter))\n",
    "            \n",
    "        if percentage > Max:\n",
    "            Max = percentage\n",
    "            Winner.append(candidate)\n",
    "    print('--------------------------------')     \n",
    "    print(f'Winner: {Winner[-1]}')\n",
    "    print('--------------------------------')    "
   ]
  },
  {
   "cell_type": "code",
   "execution_count": null,
   "metadata": {},
   "outputs": [],
   "source": []
  }
 ],
 "metadata": {
  "kernelspec": {
   "display_name": "Python 3",
   "language": "python",
   "name": "python3"
  }
 },
 "nbformat": 4,
 "nbformat_minor": 2
}
