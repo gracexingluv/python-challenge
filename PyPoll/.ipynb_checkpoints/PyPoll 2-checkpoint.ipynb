{
 "cells": [
  {
   "cell_type": "code",
   "execution_count": 110,
   "metadata": {},
   "outputs": [],
   "source": [
    "import os\n",
    "import csv\n"
   ]
  },
  {
   "cell_type": "code",
   "execution_count": 111,
   "metadata": {},
   "outputs": [],
   "source": [
    "election_data = os.path.join(\"Resources\", \"election_data.csv\")"
   ]
  },
  {
   "cell_type": "code",
   "execution_count": 133,
   "metadata": {},
   "outputs": [
    {
     "name": "stdout",
     "output_type": "stream",
     "text": [
      "Election Results\n",
      "----------------------------\n",
      "Total Votes: 3521001\n",
      "----------------------------\n",
      "Khan: 63.000% (2218231)\n",
      "Correy: 20.000% (704200)\n",
      "Li: 14.000% (492940)\n",
      "O'Tooley: 3.000% (105630)\n",
      "----------------------------\n",
      "Winner: Khan\n",
      "----------------------------\n"
     ]
    }
   ],
   "source": [
    "elections = {}\n",
    "total_voters = 0\n",
    "results = []\n",
    "\n",
    "with open(election_data,\"r\") as file:\n",
    "    csv_reader_election = csv.reader(file, delimiter=\",\")\n",
    "    next(csv_reader_election, None)\n",
    "    for row in csv_reader_election:\n",
    "        elections[row[2]] = elections.get(row[2], 0) + 1\n",
    "        total_voters = sum(elections.values())\n",
    "        win_candidate = max(elections,key=elections.get)\n",
    "to_print = ['Election Results']\n",
    "to_print.append(f'Total Votes: {total}')\n",
    "\n",
    "for k,v in elections.items():\n",
    "    results.append('{}: {:.3%} ({})'.format(k,v/total,v))\n",
    "to_print.append('\\n'.join(results))\n",
    "to_print.append('Winner: {}'.format(win_candidate))  \n",
    "for x in to_print:\n",
    "    print(x)\n",
    "    print('----------------------------')"
   ]
  },
  {
   "cell_type": "code",
   "execution_count": 132,
   "metadata": {},
   "outputs": [],
   "source": [
    "with open(\"PyPoll_result.txt\",\"w\") as file:\n",
    "    for x in to_print:\n",
    "        file.write(x)\n",
    "        file.write('\\n----------------------------\\n')"
   ]
  },
  {
   "cell_type": "code",
   "execution_count": null,
   "metadata": {},
   "outputs": [],
   "source": []
  }
 ],
 "metadata": {
  "kernelspec": {
   "display_name": "Python 3",
   "language": "python",
   "name": "python3"
  },
  "language_info": {
   "codemirror_mode": {
    "name": "ipython",
    "version": 3
   },
   "file_extension": ".py",
   "mimetype": "text/x-python",
   "name": "python",
   "nbconvert_exporter": "python",
   "pygments_lexer": "ipython3",
   "version": "3.7.4"
  }
 },
 "nbformat": 4,
 "nbformat_minor": 2
}
