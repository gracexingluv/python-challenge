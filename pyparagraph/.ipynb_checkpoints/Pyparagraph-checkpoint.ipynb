{
 "cells": [
  {
   "cell_type": "code",
   "execution_count": 75,
   "metadata": {},
   "outputs": [],
   "source": [
    "import re\n",
    "import os\n",
    "import string"
   ]
  },
  {
   "cell_type": "code",
   "execution_count": 81,
   "metadata": {},
   "outputs": [
    {
     "name": "stdout",
     "output_type": "stream",
     "text": [
      "Paragragh Analysis\n",
      "----------------------\n",
      "\n",
      "Approximate Word Count: 130\n",
      "\n",
      "Approximate Sentence Count: 5\n",
      "\n",
      "Average Letter Count: 6.26\n",
      "\n",
      "Average Sentence Length: 26.0\n"
     ]
    }
   ],
   "source": [
    "def para_read(para):\n",
    "    sentences = re.split(\"(?<=[.!?]) +\", para)\n",
    "    words = re.split(\" \", para)\n",
    "    letter = re.split(\"\", para)\n",
    "    letter = [l for l in letter if l in string.ascii_letters]\n",
    "    print(\"Paragragh Analysis\\n----------------------\")\n",
    "    print(f'\\nApproximate Word Count: {len(words)}')\n",
    "    print(f'\\nApproximate Sentence Count: {len(sentences)}')\n",
    "    print(f'\\nAverage Letter Count: {round(len(letter)/len(words),2)}')\n",
    "    print(f'\\nAverage Sentence Length: {round(len(words)/len(sentences),2)}')\n",
    "\n",
    "\n",
    "with open(\"paragraph_1.txt\", \"r\") as file:\n",
    "    paragraph_1 = file.read()\n",
    "    para_read(paragraph_1)\n",
    "\n",
    "\n"
   ]
  },
  {
   "cell_type": "code",
   "execution_count": null,
   "metadata": {},
   "outputs": [],
   "source": []
  },
  {
   "cell_type": "code",
   "execution_count": null,
   "metadata": {},
   "outputs": [],
   "source": []
  }
 ],
 "metadata": {
  "kernelspec": {
   "display_name": "Python 3",
   "language": "python",
   "name": "python3"
  },
  "language_info": {
   "codemirror_mode": {
    "name": "ipython",
    "version": 3
   },
   "file_extension": ".py",
   "mimetype": "text/x-python",
   "name": "python",
   "nbconvert_exporter": "python",
   "pygments_lexer": "ipython3",
   "version": "3.7.4"
  }
 },
 "nbformat": 4,
 "nbformat_minor": 4
}
