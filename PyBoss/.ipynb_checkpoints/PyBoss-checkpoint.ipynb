{
 "cells": [
  {
   "cell_type": "code",
   "execution_count": 19,
   "metadata": {},
   "outputs": [],
   "source": [
    "import os\n",
    "import csv"
   ]
  },
  {
   "cell_type": "code",
   "execution_count": 20,
   "metadata": {},
   "outputs": [],
   "source": [
    "import us_state_abbrev as usabb\n",
    "from datetime import datetime"
   ]
  },
  {
   "cell_type": "code",
   "execution_count": 70,
   "metadata": {},
   "outputs": [],
   "source": [
    "employee_data = os.path.join(\"employee_data.csv\")\n",
    "with open(employee_data,\"r\") as file, open('new_employee_data.csv', 'w') as writer:\n",
    "    csv_reader_employee = csv.reader(file, delimiter=\",\")\n",
    "    next(csv_reader_employee,None)\n",
    "    writer.write('Emp ID,First Name,Last Name,DOB,SSN,State')\n",
    "    for row in csv_reader_employee:\n",
    "        writer.write('\\n')\n",
    "        new_row = [row[0]]\n",
    "        new_row += row[1].split()\n",
    "        new_row.append(datetime.strptime(row[2], \"%Y-%m-%d\").strftime('%d/%m/%Y'))\n",
    "        new_row.append('***-**-' + row[3].split('-')[-1])\n",
    "        new_row.append(usabb.us_state_abbrev.get(row[4]))\n",
    "        writer.write(','.join(new_row))"
   ]
  }
 ],
 "metadata": {
  "kernelspec": {
   "display_name": "Python 3",
   "language": "python",
   "name": "python3"
  },
  "language_info": {
   "codemirror_mode": {
    "name": "ipython",
    "version": 3
   },
   "file_extension": ".py",
   "mimetype": "text/x-python",
   "name": "python",
   "nbconvert_exporter": "python",
   "pygments_lexer": "ipython3",
   "version": "3.7.4"
  }
 },
 "nbformat": 4,
 "nbformat_minor": 2
}
